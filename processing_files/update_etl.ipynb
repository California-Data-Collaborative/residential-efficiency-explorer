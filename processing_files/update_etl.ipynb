{
 "cells": [
  {
   "cell_type": "markdown",
   "metadata": {},
   "source": [
    "# Setup"
   ]
  },
  {
   "cell_type": "markdown",
   "metadata": {},
   "source": [
    "#### Extract and transform routine (pull and process data from SCUBA)"
   ]
  },
  {
   "cell_type": "code",
   "execution_count": 1,
   "metadata": {
    "collapsed": false
   },
   "outputs": [],
   "source": [
    "import psycopg2 as pg\n",
    "import pandas.io.sql as psql\n",
    "import config\n",
    "\n",
    "anonymityDict = config.anonymityDict\n",
    "\n",
    "def extract_and_transform(agencyID,\n",
    "                          county_shapefile,\n",
    "                          where_clause,\n",
    "                          pop_col,\n",
    "                          irr_area_col,\n",
    "                          eto_col):\n",
    "    \n",
    "    # connect to database\n",
    "    database = config.database\n",
    "    user = config.user\n",
    "    password = config.password\n",
    "    host = config.host\n",
    "    port = config.port\n",
    "    \n",
    "    connection = pg.connect(database=database,\n",
    "                        user=user,\n",
    "                        password=password,\n",
    "                        host=host,\n",
    "                        port=port\n",
    "                        )\n",
    "    \n",
    "    query = \"\"\"\n",
    "    WITH cte_0 AS (\n",
    "        SELECT {3} pop , {4} irr_area, utility_name, cust_loc_id, cust_loc_is_current, geom\n",
    "        FROM cust_loc\n",
    "        WHERE\n",
    "            (cust_loc_class = 'RESIDENTIAL_SINGLE'\n",
    "            OR cust_loc_class = 'RESIDENTIAL_MULTI') \n",
    "            AND utility_name = '{0}'\n",
    "        \n",
    "        ),\n",
    "    \n",
    "    cte_1 AS (\n",
    "        SELECT geoid10, pop, irr_area, utility_name, cust_loc_id, cust_loc_is_current\n",
    "        FROM cte_0, {1} \n",
    "        WHERE\n",
    "            ST_Within(cte_0.geom,{1}.geom)\n",
    "        ),\n",
    "    \n",
    "    cte_2 AS (\n",
    "        SELECT\n",
    "        usage_ccf, {5} eto, make_date(usage.usage_year, usage.usage_month, '01') usage_date,\n",
    "        cte_1.geoid10, cte_1.pop, cte_1.irr_area, cte_1.utility_name, cte_1.cust_loc_id\n",
    "        FROM cte_1\n",
    "        JOIN usage\n",
    "        ON cte_1.cust_loc_id = usage.cust_loc_id\n",
    "        {2}\n",
    "        )\n",
    "    \n",
    "    SELECT\n",
    "    geoid10,\n",
    "    usage_date,\n",
    "    SUM(pop) hhsize,\n",
    "    SUM(irr_area) irr_area_sf,\n",
    "    SUM(usage_ccf) usage_ccf,\n",
    "    AVG(eto) usage_et_amount\n",
    "    \n",
    "    FROM\n",
    "    cte_2\n",
    "    GROUP BY\n",
    "    geoid10, usage_date\"\"\".format(agencyID,\n",
    "                                  county_shapefile,\n",
    "                                  where_clause,\n",
    "                                  pop_col,\n",
    "                                  irr_area_col,\n",
    "                                  eto_col)\n",
    "    \n",
    "    tempDF = psql.read_sql(query, connection)\n",
    "    \n",
    "    path = \"./tempOut/\"\n",
    "    fname = \"%s_census_block_usage.csv\" % (anonymityDict[agencyID])\n",
    "    tempDF.to_csv(path+fname)\n",
    "    \n",
    "    # kill database connection\n",
    "    connection.close()"
   ]
  },
  {
   "cell_type": "markdown",
   "metadata": {},
   "source": [
    "#### Load routine (push processed data to CARTO)"
   ]
  },
  {
   "cell_type": "code",
   "execution_count": 2,
   "metadata": {
    "collapsed": false
   },
   "outputs": [],
   "source": [
    "import requests\n",
    "import config\n",
    "\n",
    "username = config.carto_user\n",
    "apikey = config.apikey\n",
    "\n",
    "def drop_old_table(agencyID):\n",
    "    sql = \"DROP TABLE %s_census_block_usage\" % (anonymityDict[agencyID])\n",
    "    url = \"https://%s.carto.com/api/v2/sql/?q=%s&api_key=%s\" % (username, sql, apikey)\n",
    "    response = requests.get(url)\n",
    "    \n",
    "def load_new_table(agencyID):\n",
    "    url = \"https://%s.carto.com/api/v1/imports/?privacy=link&api_key=%s\" % (username, apikey)\n",
    "    \n",
    "    path = \"./tempOUT/\"\n",
    "    fname =\"%s_census_block_usage.csv\" % (anonymityDict[agencyID])\n",
    "    f = {'file': open(path+fname)}\n",
    "    \n",
    "    response = requests.post(url, files=f)"
   ]
  },
  {
   "cell_type": "markdown",
   "metadata": {},
   "source": [
    "---\n",
    "# Execution"
   ]
  },
  {
   "cell_type": "code",
   "execution_count": 3,
   "metadata": {
    "collapsed": false
   },
   "outputs": [],
   "source": [
    "import config\n",
    "\n",
    "current_users = config.current_users\n",
    "for user in current_users:    \n",
    "    extract_and_transform(user['agencyID'],\n",
    "                          user['county_shapefile'],\n",
    "                          user['where_clause'],\n",
    "                          user['pop_col'],\n",
    "                          user['irr_area_col'],\n",
    "                          user['eto_col']\n",
    "                         )\n",
    "    \n",
    "    drop_old_table(user['agencyID'])"
   ]
  },
  {
   "cell_type": "markdown",
   "metadata": {},
   "source": [
    "Manually refresh account (to update account metadata)"
   ]
  },
  {
   "cell_type": "code",
   "execution_count": 4,
   "metadata": {
    "collapsed": false
   },
   "outputs": [],
   "source": [
    "for user in current_users:\n",
    "    load_new_table(user['agencyID'])"
   ]
  },
  {
   "cell_type": "markdown",
   "metadata": {},
   "source": [
    "Manually refresh account (to update account metadata)"
   ]
  }
 ],
 "metadata": {
  "kernelspec": {
   "display_name": "Python 2",
   "language": "python",
   "name": "python2"
  },
  "language_info": {
   "codemirror_mode": {
    "name": "ipython",
    "version": 2
   },
   "file_extension": ".py",
   "mimetype": "text/x-python",
   "name": "python",
   "nbconvert_exporter": "python",
   "pygments_lexer": "ipython2",
   "version": "2.7.12"
  }
 },
 "nbformat": 4,
 "nbformat_minor": 0
}
